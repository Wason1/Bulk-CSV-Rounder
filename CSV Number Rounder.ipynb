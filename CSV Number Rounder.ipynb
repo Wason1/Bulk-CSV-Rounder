{
 "cells": [
  {
   "cell_type": "markdown",
   "metadata": {},
   "source": [
    "# CSV Number Rounder\n",
    "\n"
   ]
  },
  {
   "cell_type": "markdown",
   "metadata": {},
   "source": [
    "### Importing Libraries"
   ]
  },
  {
   "cell_type": "code",
   "execution_count": 10,
   "metadata": {
    "collapsed": true
   },
   "outputs": [],
   "source": [
    "import pandas as pd\n",
    "import numpy as np\n",
    "import os\n",
    "import re\n",
    "import glob\n",
    "import csv"
   ]
  },
  {
   "cell_type": "markdown",
   "metadata": {},
   "source": [
    "### Input Variables"
   ]
  },
  {
   "cell_type": "code",
   "execution_count": 11,
   "metadata": {
    "collapsed": true
   },
   "outputs": [],
   "source": [
    "# Directory of the csv files you want to process\n",
    "Input_path_CSVs = 'D:/algae/'\n",
    "\n",
    "# Can change to xlsx if needed, other changes will be nessesary to code\n",
    "Extension = 'csv'\n",
    "\n",
    "# Csv files seperator for input and output files..generally (,) or (|)\n",
    "Delimiter = '|'\n",
    "\n",
    "# Output of the processed CSV files\n",
    "Output_path_processed_csv = 'D:/algae/output/'\n"
   ]
  },
  {
   "cell_type": "markdown",
   "metadata": {},
   "source": [
    "### Save CSV Filenames in a List and Dataframe"
   ]
  },
  {
   "cell_type": "code",
   "execution_count": 12,
   "metadata": {},
   "outputs": [
    {
     "name": "stdout",
     "output_type": "stream",
     "text": [
      "7 files will be processed\n"
     ]
    }
   ],
   "source": [
    "# Get the csv filenames into an array\n",
    "os.chdir(Input_path_CSVs)\n",
    "filenames = [i for i in glob.glob('*.{}'.format(Extension))]\n",
    "\n",
    "# Get the number of csv files\n",
    "NumFiles = len(filenames)\n",
    "print(NumFiles, 'files will be processed')"
   ]
  },
  {
   "cell_type": "markdown",
   "metadata": {},
   "source": [
    "### Loop though each file and Process it, Create Excel Report on Changes Made"
   ]
  },
  {
   "cell_type": "code",
   "execution_count": 13,
   "metadata": {},
   "outputs": [],
   "source": [
    "# Get the csv filenames into an array\n",
    "os.chdir(Input_path_CSVs)\n",
    "filenames = [i for i in glob.glob('*.{}'.format(Extension))]\n",
    "\n",
    "\n",
    "###################  START BIG LOOP  #######################################\n",
    "# Loop through each csv file in the input directory\n",
    "for filename in filenames:\n",
    "    \n",
    "    # Save an individual file as a DataFrame Object to analyse\n",
    "    df_file = pd.read_csv(filename, sep=Delimiter, index_col=False, engine='python')\n",
    "    # Delete Rows with everything missing in the row\n",
    "    df_file = df_file.dropna(axis='index', how='all')\n",
    "    \n",
    "    # Round the whole dataframe\n",
    "    df_file = df_file.round(8)\n",
    "\n",
    "  \n",
    "    ###################  PROCESSED FILE  ############################\n",
    "\n",
    "    \n",
    "    Output_filename = Output_path_processed_csv + filename\n",
    "    df_file.to_csv(path_or_buf=Output_filename, sep='|', index=False)\n",
    "    \n",
    "    print(file made)\n",
    "    \n",
    "###################  END BIG LOOP  #######################################\n",
    "\n",
    "print('DONE')\n"
   ]
  },
  {
   "cell_type": "code",
   "execution_count": null,
   "metadata": {
    "collapsed": true
   },
   "outputs": [],
   "source": []
  }
 ],
 "metadata": {
  "kernelspec": {
   "display_name": "Python 3",
   "language": "python",
   "name": "python3"
  },
  "language_info": {
   "codemirror_mode": {
    "name": "ipython",
    "version": 3
   },
   "file_extension": ".py",
   "mimetype": "text/x-python",
   "name": "python",
   "nbconvert_exporter": "python",
   "pygments_lexer": "ipython3",
   "version": "3.5.3"
  }
 },
 "nbformat": 4,
 "nbformat_minor": 2
}
